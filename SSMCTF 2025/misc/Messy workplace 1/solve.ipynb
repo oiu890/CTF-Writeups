{
 "cells": [
  {
   "cell_type": "code",
   "execution_count": 3,
   "id": "6830bfcb-b93c-4c85-82d8-aa680beed4a4",
   "metadata": {},
   "outputs": [
    {
     "name": "stdout",
     "output_type": "stream",
     "text": [
      "_w3re_sup0s5ed\n"
     ]
    }
   ],
   "source": [
    "flag = \"\"\n",
    "scrambled = \"_dwe35rse0_psu\"\n",
    "result = [''] * len(scrambled)\n",
    "front = 0\n",
    "back = len(scrambled) - 1\n",
    "# back += front\n",
    "for i, c in enumerate(scrambled):\n",
    "    if i % 2 == 0:\n",
    "        result[front] = c\n",
    "        front += 1\n",
    "        # back += 1\n",
    "    # elif i + 5 == i:\n",
    "    #     back, front = front, back\n",
    "    else:\n",
    "        result[back] = c\n",
    "        back -= 1\n",
    "flag += ''.join(result)\n",
    "print(flag)\n"
   ]
  },
  {
   "cell_type": "code",
   "execution_count": null,
   "id": "d8da1a0e",
   "metadata": {},
   "outputs": [
    {
     "name": "stdout",
     "output_type": "stream",
     "text": [
      "['S', 'S', 'M', 'C', 'T', 'F', '{', 'c', '0', 'm', '3', 'e', 'n', 't', 'S']\n",
      "SSMCTF{c0m3entS\n"
     ]
    }
   ],
   "source": [
    "scrambled, order = \"SSStMnCeT3Fm{0c\", [0, 14, 1, 13, 2, 12, 3, 11, 4, 10, 5, 9, 6, 8, 7]\n",
    "original = [''] * len(scrambled)\n",
    "for char,dex in zip(scrambled,order):\n",
    "    original[dex] = char\n",
    "print(original)\n",
    "print(\"\".join(original))\n",
    "scrambled, order = \"SSStMnCeT3Fm{0c\", [0, 14, 1, 13, 2, 12, 3, 11, 4, 10, 5, 9, 6, 8, 7]\n",
    "original = [''] * len(scrambled)\n",
    "for i, idx in enumerate(order):\n",
    "    # idx += 1\n",
    "    original[idx] = scrambled[i]\n",
    "print(original)\n",
    "print(\"\".join(original))\n"
   ]
  },
  {
   "cell_type": "code",
   "execution_count": 4,
   "id": "3e73230d",
   "metadata": {},
   "outputs": [
    {
     "name": "stdout",
     "output_type": "stream",
     "text": [
      "_7o_h31P_meeeee}\n"
     ]
    }
   ],
   "source": [
    "scrambled, swaps = \"3_hoeeP7e_em_e1}\", [(0, 5), (1, 5), (2, 8), (3, 8), (4, 10), (5, 11), (6, 7), (7, 11), (8, 13), (9, 13), (10, 14), (11, 13), (12, 2), (13, 2), (14, 2)]\n",
    "s = list(scrambled)\n",
    "for i, j in reversed(swaps):\n",
    "    #i, j = 1, len(s)\n",
    "    s[i], s[j] = s[j], s[i]\n",
    "    # s[i+1], s[j+1] = s[j], s[i]\n",
    "\n",
    "print(\"\".join(s))"
   ]
  },
  {
   "cell_type": "markdown",
   "id": "c2f66f99",
   "metadata": {},
   "source": [
    "SSMCTF{c0m3entS_w3re_sup0s5ed_7o_h31P_meeeee}"
   ]
  }
 ],
 "metadata": {
  "kernelspec": {
   "display_name": "base",
   "language": "python",
   "name": "python3"
  },
  "language_info": {
   "codemirror_mode": {
    "name": "ipython",
    "version": 3
   },
   "file_extension": ".py",
   "mimetype": "text/x-python",
   "name": "python",
   "nbconvert_exporter": "python",
   "pygments_lexer": "ipython3",
   "version": "3.12.7"
  }
 },
 "nbformat": 4,
 "nbformat_minor": 5
}
