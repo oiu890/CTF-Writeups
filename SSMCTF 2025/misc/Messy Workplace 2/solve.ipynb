{
 "cells": [
  {
   "cell_type": "code",
   "execution_count": 17,
   "id": "a78d9636",
   "metadata": {},
   "outputs": [
    {
     "name": "stdout",
     "output_type": "stream",
     "text": [
      "rmmsycdss f0_35_03s}\n",
      "['f', 'r', '0', 'm', '_', 'm', '3', 's', '5', 'y', '_', 'c', '0', 'd', '3', 's', 's', 's', '}']\n",
      "fr0m_m3s5y_c0d3sss}\n"
     ]
    }
   ],
   "source": [
    "scrambled = \"rmmsycdssf0_35_03s}\"\n",
    "odds      = scrambled[:9]\n",
    "evens     = scrambled[9:]\n",
    "print(odds,evens)\n",
    "result = []\n",
    "for o, e in zip(odds, evens):\n",
    "    result.extend([e, o])           # add even, then odd\n",
    "if len(evens) > len(odds):          # one extra even character\n",
    "    result.append(evens[-1])\n",
    "print(result)\n",
    "print(\"\".join(result))"
   ]
  },
  {
   "cell_type": "code",
   "execution_count": 19,
   "id": "e45f67d8",
   "metadata": {},
   "outputs": [
    {
     "name": "stdout",
     "output_type": "stream",
     "text": [
      "{m3s5y_w0rkp1\n"
     ]
    }
   ],
   "source": [
    "s = list(\"0135_kmprswy{\")\n",
    "swap_indices = [\n",
    "        (0, 1), (1, 2), (2, 3), (3, 4), (4, 5), (5, 6), (6, 7), (7, 8),\n",
    "        (8, 9), (9, 10), (10, 11), (11, 12), (0, 1), (2, 3), (4, 5),\n",
    "        (5, 6), (6, 7), (7, 8), (8, 9), (9, 10), (10, 11), (1, 2),\n",
    "        (3, 4), (5, 6), (6, 7), (7, 8), (8, 9), (9, 10), (2, 3), (4, 5),\n",
    "        (5, 6), (6, 7), (7, 8), (8, 9), (3, 4), (5, 6), (6, 7), (7, 8),\n",
    "        (2, 3), (4, 5), (6, 7), (1, 2), (5, 6), (0, 1), (4, 5), (3, 4),\n",
    "        (2, 3), (1, 2)\n",
    "    ]\n",
    "for j, i in reversed(swap_indices):\n",
    "    s[j], s[i] = s[i], s[j]\n",
    "print(\"\".join(s))"
   ]
  },
  {
   "cell_type": "code",
   "execution_count": 22,
   "id": "380e458a",
   "metadata": {},
   "outputs": [
    {
     "name": "stdout",
     "output_type": "stream",
     "text": [
      "4c3s_c0m35_\n"
     ]
    }
   ],
   "source": [
    "offsets     = [0, 4, 4, 0, -3, -4, -1, 3, 4, 2, -2]\n",
    "scrambled2  = r\"4g7s\\_/p77]\"\n",
    "decoded     = [\n",
    "        chr(ord(c) - offsets[i])\n",
    "        for i, c in enumerate(scrambled2)\n",
    "    ]\n",
    "# flag += ''.join(decoded)\n",
    "print(\"\".join(decoded))"
   ]
  },
  {
   "cell_type": "code",
   "execution_count": null,
   "id": "213f56a4",
   "metadata": {},
   "outputs": [],
   "source": [
    "    SSMCTF{m3s5y_w0rkp14c3s_c0m35_fr0m_m3s5y_c0d3sss}"
   ]
  },
  {
   "cell_type": "code",
   "execution_count": 4,
   "id": "79870d95",
   "metadata": {},
   "outputs": [
    {
     "name": "stdout",
     "output_type": "stream",
     "text": [
      "RVCTF{tH4nk5_f0r_h3lp1nG_t0_Cle3n_up_391837289_h1}\n"
     ]
    }
   ],
   "source": [
    "#Help there seem to be errors in my code :(\n",
    "#Can you fix them for me?\n",
    "\n",
    "def abc(text):\n",
    "    chars = list(text)\n",
    "    for i in range(0, len(chars) - 1, 2):\n",
    "        chars[i], chars[i + 1] = chars[i + 1], chars[i]\n",
    "    return ''.join(chars)\n",
    "\n",
    "def abd(text):\n",
    "    return text[::-1]\n",
    "\n",
    "def asd(text):\n",
    "    order = [2, 8, 5, 3, 4, 7, 1, 6, 9, 0]\n",
    "    original = [''] * len(text)\n",
    "    for char,dex in zip(text,order):\n",
    "        original[dex] = char\n",
    "    return \"\".join(original)\n",
    "\n",
    "def bbb(text):\n",
    "    swaps = [(0,1),(2,10),(3,4),(10,3),(4,5),(6,7),(3,9),(0,3),(3,8),(10,2),(9,4)]\n",
    "    text = list(text)\n",
    "    for old_pos,new_pos in reversed(swaps):\n",
    "        text[old_pos],text[new_pos] = text[new_pos],text[old_pos]\n",
    "        # text[old_pos+1],text[new_pos-1] = text[new_pos+3],text[old_pos-1]\n",
    "    return \"\".join(text)\n",
    "\n",
    "def baba(text):\n",
    "    text = list(text)\n",
    "    for i in range(len(text)):\n",
    "        text[i] = str(chr(ord(text[i]) + 5)) #hint: there is no logic error here\n",
    "    return \"\".join(text)\n",
    "\n",
    "\n",
    "part1 = \"VRTC{FHtn4\"\n",
    "part2 = \"3h_r0f_5k\"\n",
    "part3 = \"1__nG0ptCl\"\n",
    "part4 = \"9l_33n_peu1\"\n",
    "part5 = \"3.2-34Zc,x\"\n",
    "\n",
    "scrambled = [part1,part2,part3,part4,part5]\n",
    "decrypting_functions = [abc,abd,asd,bbb,baba]\n",
    "flag = \"\"\n",
    "for func,part in zip(decrypting_functions,scrambled):\n",
    "    flag += func(part)\n",
    "print(flag)"
   ]
  },
  {
   "cell_type": "code",
   "execution_count": 20,
   "id": "de3c57d8",
   "metadata": {},
   "outputs": [
    {
     "name": "stdout",
     "output_type": "stream",
     "text": [
      "Decoded: b'base64_flag: rvctf{\\r\\n\\r\\n}\\n'\n"
     ]
    }
   ],
   "source": [
    "import base64\n",
    "# s = input(\"Enter XOR+Base64 encoded string: \").strip()\n",
    "# xor_bytes = bytes([ord(c) ^ 0x42 for c in s])\n",
    "# print(xor_bytes)\n",
    "decoded = base64.b64decode(\"YmFzZTY0X2ZsYWc6IHJ2Y3Rmew0KDQp9Cg==\")\n",
    "print(\"Decoded:\", decoded)\n"
   ]
  }
 ],
 "metadata": {
  "kernelspec": {
   "display_name": "base",
   "language": "python",
   "name": "python3"
  },
  "language_info": {
   "codemirror_mode": {
    "name": "ipython",
    "version": 3
   },
   "file_extension": ".py",
   "mimetype": "text/x-python",
   "name": "python",
   "nbconvert_exporter": "python",
   "pygments_lexer": "ipython3",
   "version": "3.12.7"
  }
 },
 "nbformat": 4,
 "nbformat_minor": 5
}
