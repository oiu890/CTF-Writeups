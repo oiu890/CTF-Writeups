{
 "cells": [
  {
   "cell_type": "code",
   "execution_count": 2,
   "id": "a78d9636",
   "metadata": {},
   "outputs": [
    {
     "name": "stdout",
     "output_type": "stream",
     "text": [
      "rmmsycdss f0_35_03s}\n",
      "['f', 'r', '0', 'm', '_', 'm', '3', 's', '5', 'y', '_', 'c', '0', 'd', '3', 's', 's', 's', '}']\n",
      "fr0m_m3s5y_c0d3sss}\n"
     ]
    }
   ],
   "source": [
    "scrambled = \"rmmsycdssf0_35_03s}\"\n",
    "odds      = scrambled[:9]\n",
    "evens     = scrambled[9:]\n",
    "print(odds,evens)\n",
    "result = []\n",
    "for o, e in zip(odds, evens):\n",
    "    result.extend([e, o])           # add even, then odd\n",
    "if len(evens) > len(odds):          # one extra even character\n",
    "    result.append(evens[-1])\n",
    "print(result)\n",
    "print(\"\".join(result))"
   ]
  },
  {
   "cell_type": "code",
   "execution_count": null,
   "id": "e45f67d8",
   "metadata": {},
   "outputs": [
    {
     "name": "stdout",
     "output_type": "stream",
     "text": [
      "{m3s5y_w0rkp1\n"
     ]
    }
   ],
   "source": [
    "s = list(\"0135_kmprswy{\")\n",
    "swap_indices = [\n",
    "        (0, 1), (1, 2), (2, 3), (3, 4), (4, 5), (5, 6), (6, 7), (7, 8),\n",
    "        (8, 9), (9, 10), (10, 11), (11, 12), (0, 1), (2, 3), (4, 5),\n",
    "        (5, 6), (6, 7), (7, 8), (8, 9), (9, 10), (10, 11), (1, 2),\n",
    "        (3, 4), (5, 6), (6, 7), (7, 8), (8, 9), (9, 10), (2, 3), (4, 5),\n",
    "        (5, 6), (6, 7), (7, 8), (8, 9), (3, 4), (5, 6), (6, 7), (7, 8),\n",
    "        (2, 3), (4, 5), (6, 7), (1, 2), (5, 6), (0, 1), (4, 5), (3, 4),\n",
    "        (2, 3), (1, 2)]\n",
    "for j, i in reversed(swap_indices):\n",
    "    s[j], s[i] = s[i], s[j]\n",
    "print(\"\".join(s))"
   ]
  },
  {
   "cell_type": "code",
   "execution_count": null,
   "id": "380e458a",
   "metadata": {},
   "outputs": [
    {
     "name": "stdout",
     "output_type": "stream",
     "text": [
      "4c3s_c0m35_\n"
     ]
    }
   ],
   "source": [
    "offsets     = [0, 4, 4, 0, -3, -4, -1, 3, 4, 2, -2]\n",
    "scrambled2  = r\"4g7s\\_/p77]\"\n",
    "decoded     = [\n",
    "        chr(ord(c) - offsets[i])\n",
    "        for i, c in enumerate(scrambled2)\n",
    "    ]\n",
    "# flag += ''.join(decoded)\n",
    "print(\"\".join(decoded))\n",
    "# offsets, scrambled2 = [0, 4, 4, 0, -3, -4, -1, 3, 4, 2, -2], \"4g7s\\\\_/p77]\"\n",
    "# decoded_chars = []\n",
    "# for i,c in enumerate(scrambled2):\n",
    "#     offset = offsets[i]\n",
    "#     decoded_char = chr(ord(c) - offset)\n",
    "#     decoded_chars.append(decoded_char)\n",
    "# print(\"\".join(decoded_chars))"
   ]
  },
  {
   "cell_type": "markdown",
   "id": "213f56a4",
   "metadata": {},
   "source": [
    "    SSMCTF{m3s5y_w0rkp14c3s_c0m35_fr0m_m3s5y_c0d3sss}"
   ]
  }
 ],
 "metadata": {
  "kernelspec": {
   "display_name": "python_env",
   "language": "python",
   "name": "python3"
  },
  "language_info": {
   "codemirror_mode": {
    "name": "ipython",
    "version": 3
   },
   "file_extension": ".py",
   "mimetype": "text/x-python",
   "name": "python",
   "nbconvert_exporter": "python",
   "pygments_lexer": "ipython3",
   "version": "3.12.9"
  }
 },
 "nbformat": 4,
 "nbformat_minor": 5
}
